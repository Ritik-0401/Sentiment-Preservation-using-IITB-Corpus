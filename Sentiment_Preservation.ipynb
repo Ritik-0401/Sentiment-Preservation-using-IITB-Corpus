{
 "cells": [
  {
   "cell_type": "code",
   "execution_count": 1,
   "id": "7f6e4bea-1701-412f-b64f-c9bc7ef9e394",
   "metadata": {},
   "outputs": [],
   "source": [
    "import numpy as np\n",
    "import pandas as pd\n",
    "from sklearn.metrics import classification_report\n",
    "from transformers import AutoTokenizer, AutoModelForSequenceClassification, Trainer, TrainingArguments, pipeline\n",
    "import torch\n",
    "from torch.utils.data import Dataset\n",
    "from tqdm import tqdm"
   ]
  },
  {
   "cell_type": "code",
   "execution_count": 10,
   "id": "e1591ccf-e1ff-47c6-b343-3c45e0b99905",
   "metadata": {},
   "outputs": [
    {
     "name": "stdout",
     "output_type": "stream",
     "text": [
      "Training set size: 1659083\n",
      "Dev set size: 520\n",
      "Test set size: 2507\n",
      "Sample training data:\n",
      "                                      english_text  \\\n",
      "0  Give your application an accessibility workout   \n",
      "1               Accerciser Accessibility Explorer   \n",
      "2  The default plugin layout for the bottom panel   \n",
      "3     The default plugin layout for the top panel   \n",
      "4  A list of plugins that are disabled by default   \n",
      "\n",
      "                                          hindi_text  \n",
      "0    अपने अनुप्रयोग को पहुंचनीयता व्यायाम का लाभ दें  \n",
      "1                    एक्सेर्साइसर पहुंचनीयता अन्वेषक  \n",
      "2              निचले पटल के लिए डिफोल्ट प्लग-इन खाका  \n",
      "3               ऊपरी पटल के लिए डिफोल्ट प्लग-इन खाका  \n",
      "4  उन प्लग-इनों की सूची जिन्हें डिफोल्ट रूप से नि...  \n",
      "English sentence length stats:\n",
      " count    1.659083e+06\n",
      "mean     7.481592e+01\n",
      "std      8.645198e+01\n",
      "min      0.000000e+00\n",
      "25%      1.500000e+01\n",
      "50%      4.800000e+01\n",
      "75%      1.050000e+02\n",
      "max      1.108800e+04\n",
      "Name: english_text, dtype: float64\n",
      "Hindi sentence length stats:\n",
      " count    1.659083e+06\n",
      "mean     7.247978e+01\n",
      "std      8.299278e+01\n",
      "min      0.000000e+00\n",
      "25%      1.500000e+01\n",
      "50%      4.700000e+01\n",
      "75%      1.010000e+02\n",
      "max      8.000000e+03\n",
      "Name: hindi_text, dtype: float64\n"
     ]
    }
   ],
   "source": [
    "# ========== 1. Load and Analyze Data ==========\n",
    "def load_corpus(en_file, hi_file):\n",
    "    with open(en_file, \"r\", encoding=\"utf-8\") as f:\n",
    "        en_lines = [line.strip() for line in f.readlines()]\n",
    "    with open(hi_file, \"r\", encoding=\"utf-8\") as f:\n",
    "        hi_lines = [line.strip() for line in f.readlines()]\n",
    "    assert len(en_lines) == len(hi_lines), f\"Mismatch in {en_file} and {hi_file}: {len(en_lines)} vs {len(hi_lines)}\"\n",
    "    return pd.DataFrame({\"english_text\": en_lines, \"hindi_text\": hi_lines})\n",
    "\n",
    "# File paths\n",
    "train_df = load_corpus(\"IITB.en-hi.en\", \"IITB.en-hi.hi\")\n",
    "dev_df = load_corpus(\"dev.en\", \"dev.hi\") \n",
    "test_df = load_corpus(\"test.en\", \"test.hi\") \n",
    "\n",
    "# Basic analysis\n",
    "print(\"Training set size:\", len(train_df))\n",
    "print(\"Dev set size:\", len(dev_df))\n",
    "print(\"Test set size:\", len(test_df))\n",
    "print(\"Sample training data:\\n\", train_df.head())\n",
    "print(\"English sentence length stats:\\n\", train_df[\"english_text\"].str.len().describe())\n",
    "print(\"Hindi sentence length stats:\\n\", train_df[\"hindi_text\"].str.len().describe())\n",
    "\n",
    "# Remove empty or invalid rows\n",
    "train_df = train_df.dropna().query(\"english_text != '' and hindi_text != ''\")\n",
    "dev_df = dev_df.dropna().query(\"english_text != '' and hindi_text != ''\")\n",
    "test_df = test_df.dropna().query(\"english_text != '' and hindi_text != ''\")"
   ]
  },
  {
   "cell_type": "code",
   "execution_count": 17,
   "id": "907ed78b-61db-45e3-b5a4-f04a94b2d466",
   "metadata": {},
   "outputs": [
    {
     "name": "stderr",
     "output_type": "stream",
     "text": [
      "Device set to use cpu\n"
     ]
    },
    {
     "name": "stdout",
     "output_type": "stream",
     "text": [
      "Training label distribution:\n",
      " sentiment_label\n",
      "0    3195\n",
      "1    1805\n",
      "Name: count, dtype: int64\n"
     ]
    }
   ],
   "source": [
    "# ========== 2. Assign Sentiment Labels ==========\n",
    "# Use a pre-trained sentiment model to label English text\n",
    "sentiment_classifier = pipeline(\"sentiment-analysis\", model=\"distilbert-base-uncased-finetuned-sst-2-english\")\n",
    "\n",
    "def label_sentiment(texts):\n",
    "    results = sentiment_classifier(texts, truncation=True, max_length=512)\n",
    "    labels = []\n",
    "    for res in results:\n",
    "        if res[\"label\"] == \"POSITIVE\":\n",
    "            labels.append(0)  \n",
    "        elif res[\"label\"] == \"NEGATIVE\":\n",
    "            labels.append(1)  \n",
    "        else:\n",
    "            labels.append(2)  # neutral (fallback)\n",
    "    return labels\n",
    "\n",
    "# Label training data \n",
    "train_texts = train_df[\"english_text\"].tolist()[:5000]  \n",
    "train_df = train_df.iloc[:len(train_texts)].copy()\n",
    "train_df[\"sentiment_label\"] = label_sentiment(train_texts)\n",
    "print(\"Training label distribution:\\n\", train_df[\"sentiment_label\"].value_counts())\n",
    "\n",
    "# Label dev and test sets\n",
    "dev_df[\"sentiment_label\"] = label_sentiment(dev_df[\"english_text\"].tolist())\n",
    "test_df[\"sentiment_label\"] = label_sentiment(test_df[\"english_text\"].tolist())\n",
    "\n",
    "# Define sentiment mapping\n",
    "sentiment_mapping = {0: \"positive\", 1: \"negative\"}  # 3 classes for simplicity"
   ]
  },
  {
   "cell_type": "code",
   "execution_count": 12,
   "id": "9d06f7fb-6fac-46f8-bc77-09da2a4bbe80",
   "metadata": {},
   "outputs": [],
   "source": [
    "# ========== 3  Preprocess and Tokenize ==========\n",
    "tokenizer = AutoTokenizer.from_pretrained(\"xlm-roberta-base\")\n",
    "\n",
    "class SentimentDataset(Dataset):\n",
    "    def __init__(self, texts, labels):\n",
    "        self.texts = texts.tolist()\n",
    "        self.labels = labels.tolist()\n",
    "\n",
    "    def __len__(self):\n",
    "        return len(self.texts)\n",
    "\n",
    "    def __getitem__(self, idx):\n",
    "        encoding = tokenizer(self.texts[idx], truncation=True, padding=\"max_length\", max_length=128, return_tensors=\"pt\")\n",
    "        item = {key: val.squeeze(0) for key, val in encoding.items()}\n",
    "        item[\"labels\"] = torch.tensor(self.labels[idx], dtype=torch.long)\n",
    "        return item\n",
    "\n",
    "train_dataset = SentimentDataset(train_df[\"english_text\"], train_df[\"sentiment_label\"])\n",
    "dev_dataset = SentimentDataset(dev_df[\"english_text\"], dev_df[\"sentiment_label\"])\n",
    "test_dataset = SentimentDataset(test_df[\"english_text\"], test_df[\"sentiment_label\"])"
   ]
  },
  {
   "cell_type": "code",
   "execution_count": 13,
   "id": "3197bb98-c5ea-4b8a-882f-8a7e49600142",
   "metadata": {},
   "outputs": [
    {
     "name": "stdout",
     "output_type": "stream",
     "text": [
      "Using device: cpu\n"
     ]
    },
    {
     "data": {
      "application/vnd.jupyter.widget-view+json": {
       "model_id": "4e7ed4bb1eec4149b919d506165e944d",
       "version_major": 2,
       "version_minor": 0
      },
      "text/plain": [
       "config.json:   0%|          | 0.00/615 [00:00<?, ?B/s]"
      ]
     },
     "metadata": {},
     "output_type": "display_data"
    },
    {
     "data": {
      "application/vnd.jupyter.widget-view+json": {
       "model_id": "11d3f48bbaf148b8b35052791d92f570",
       "version_major": 2,
       "version_minor": 0
      },
      "text/plain": [
       "config.json:   0%|          | 0.00/615 [00:00<?, ?B/s]"
      ]
     },
     "metadata": {},
     "output_type": "display_data"
    },
    {
     "data": {
      "application/vnd.jupyter.widget-view+json": {
       "model_id": "98e4ed9fa47a46acbcef139c95afee1b",
       "version_major": 2,
       "version_minor": 0
      },
      "text/plain": [
       "model.safetensors:   0%|          | 0.00/1.12G [00:00<?, ?B/s]"
      ]
     },
     "metadata": {},
     "output_type": "display_data"
    },
    {
     "name": "stderr",
     "output_type": "stream",
     "text": [
      "Some weights of XLMRobertaForSequenceClassification were not initialized from the model checkpoint at xlm-roberta-base and are newly initialized: ['classifier.dense.bias', 'classifier.dense.weight', 'classifier.out_proj.bias', 'classifier.out_proj.weight']\n",
      "You should probably TRAIN this model on a down-stream task to be able to use it for predictions and inference.\n",
      "C:\\Users\\HP\\anaconda3\\Lib\\site-packages\\transformers\\training_args.py:1611: FutureWarning: `evaluation_strategy` is deprecated and will be removed in version 4.46 of 🤗 Transformers. Use `eval_strategy` instead\n",
      "  warnings.warn(\n"
     ]
    },
    {
     "name": "stdout",
     "output_type": "stream",
     "text": [
      "Model loaded successfully!\n"
     ]
    },
    {
     "data": {
      "text/html": [
       "\n",
       "    <div>\n",
       "      \n",
       "      <progress value='939' max='939' style='width:300px; height:20px; vertical-align: middle;'></progress>\n",
       "      [939/939 5:03:29, Epoch 3/3]\n",
       "    </div>\n",
       "    <table border=\"1\" class=\"dataframe\">\n",
       "  <thead>\n",
       " <tr style=\"text-align: left;\">\n",
       "      <th>Epoch</th>\n",
       "      <th>Training Loss</th>\n",
       "      <th>Validation Loss</th>\n",
       "    </tr>\n",
       "  </thead>\n",
       "  <tbody>\n",
       "    <tr>\n",
       "      <td>1</td>\n",
       "      <td>0.321300</td>\n",
       "      <td>0.622031</td>\n",
       "    </tr>\n",
       "    <tr>\n",
       "      <td>2</td>\n",
       "      <td>0.173300</td>\n",
       "      <td>0.881265</td>\n",
       "    </tr>\n",
       "    <tr>\n",
       "      <td>3</td>\n",
       "      <td>0.098800</td>\n",
       "      <td>1.155189</td>\n",
       "    </tr>\n",
       "  </tbody>\n",
       "</table><p>"
      ],
      "text/plain": [
       "<IPython.core.display.HTML object>"
      ]
     },
     "metadata": {},
     "output_type": "display_data"
    },
    {
     "data": {
      "text/plain": [
       "TrainOutput(global_step=939, training_loss=0.26955475847815047, metrics={'train_runtime': 18234.8276, 'train_samples_per_second': 0.823, 'train_steps_per_second': 0.051, 'total_flos': 986675316480000.0, 'train_loss': 0.26955475847815047, 'epoch': 3.0})"
      ]
     },
     "execution_count": 13,
     "metadata": {},
     "output_type": "execute_result"
    }
   ],
   "source": [
    "# ========== 4 Model Training ==========\n",
    "from transformers import AutoModelForSequenceClassification, TrainingArguments, Trainer\n",
    "import torch\n",
    "\n",
    "# Check GPU availability\n",
    "device = torch.device(\"cuda\" if torch.cuda.is_available() else \"cpu\")\n",
    "print(f\"Using device: {device}\")\n",
    "\n",
    "# Load model and move to GPU\n",
    "try:\n",
    "    model = AutoModelForSequenceClassification.from_pretrained(\n",
    "        \"xlm-roberta-base\", \n",
    "        num_labels=3, \n",
    "        force_download=True,  \n",
    "        cache_dir=\"./model_cache\"  \n",
    "    )\n",
    "    model.to(device)  \n",
    "    print(\"Model loaded successfully!\")\n",
    "except Exception as e:\n",
    "    print(f\"Error loading model: {e}\")\n",
    "    raise\n",
    "\n",
    "# Training arguments with GPU settings\n",
    "training_args = TrainingArguments(\n",
    "    output_dir=\"./results\",\n",
    "    evaluation_strategy=\"epoch\",\n",
    "    save_strategy=\"epoch\",\n",
    "    per_device_train_batch_size=16,  \n",
    "    per_device_eval_batch_size=16, \n",
    "    num_train_epochs=3,\n",
    "    learning_rate=2e-5,\n",
    "    logging_dir=\"./logs\",\n",
    "    logging_steps=100,\n",
    "    save_total_limit=2,\n",
    "    load_best_model_at_end=True,\n",
    "    metric_for_best_model=\"eval_loss\",\n",
    "    fp16=True, \n",
    ")\n",
    "\n",
    "trainer = Trainer(\n",
    "    model=model,\n",
    "    args=training_args,\n",
    "    train_dataset=train_dataset,\n",
    "    eval_dataset=dev_dataset,\n",
    ")\n",
    "\n",
    "# Train the model\n",
    "trainer.train()"
   ]
  },
  {
   "cell_type": "code",
   "execution_count": 18,
   "id": "f93f8926-43e2-4051-b993-bdc3f5f6d222",
   "metadata": {},
   "outputs": [
    {
     "data": {
      "text/html": [],
      "text/plain": [
       "<IPython.core.display.HTML object>"
      ]
     },
     "metadata": {},
     "output_type": "display_data"
    },
    {
     "name": "stdout",
     "output_type": "stream",
     "text": [
      "Test set evaluation:\n",
      "              precision    recall  f1-score   support\n",
      "\n",
      "    positive       0.58      0.81      0.67       921\n",
      "    negative       0.85      0.66      0.74      1586\n",
      "\n",
      "    accuracy                           0.71      2507\n",
      "   macro avg       0.72      0.73      0.71      2507\n",
      "weighted avg       0.75      0.71      0.72      2507\n",
      "\n"
     ]
    }
   ],
   "source": [
    "# ========== 5 Evaluation ==========\n",
    "predictions = trainer.predict(test_dataset)\n",
    "preds = np.argmax(predictions.predictions, axis=1)\n",
    "\n",
    "print(\"Test set evaluation:\")\n",
    "print(classification_report(test_df[\"sentiment_label\"], preds, target_names=sentiment_mapping.values()))"
   ]
  },
  {
   "cell_type": "code",
   "execution_count": 28,
   "id": "b46f1e19-07f0-4d03-879d-bbe137b7de83",
   "metadata": {},
   "outputs": [
    {
     "name": "stdout",
     "output_type": "stream",
     "text": [
      "Confusion Matrix (Numerical):\n",
      "          positive  negative\n",
      "positive       743       178\n",
      "negative       539      1047\n"
     ]
    },
    {
     "data": {
      "image/png": "[encoded data removed]",
      "text/plain": [
       "<Figure size 800x600 with 2 Axes>"
      ]
     },
     "metadata": {},
     "output_type": "display_data"
    }
   ],
   "source": [
    "import numpy as np\n",
    "import pandas as pd\n",
    "from sklearn.metrics import confusion_matrix, classification_report\n",
    "import seaborn as sns\n",
    "import matplotlib.pyplot as plt\n",
    "\n",
    "\n",
    "# Compute confusion matrix\n",
    "cm = confusion_matrix(test_df[\"sentiment_label\"], preds)\n",
    "cm_df = pd.DataFrame(cm, index=sentiment_mapping.values(), columns=sentiment_mapping.values())\n",
    "\n",
    "# Print numerical confusion matrix\n",
    "print(\"Confusion Matrix (Numerical):\")\n",
    "print(cm_df)\n",
    "\n",
    "# Plot confusion matrix with Seaborn\n",
    "plt.figure(figsize=(8, 6))\n",
    "sns.heatmap(cm_df, annot=True, fmt=\"d\", cmap=\"Blues\", cbar=True)\n",
    "plt.title(\"Confusion Matrix\")\n",
    "plt.xlabel(\"Predicted Label\")\n",
    "plt.ylabel(\"True Label\")\n",
    "plt.show()"
   ]
  },
  {
   "cell_type": "code",
   "execution_count": 30,
   "id": "667571b3-c072-40f2-bd99-f0c4acb16c3c",
   "metadata": {},
   "outputs": [
    {
     "name": "stdout",
     "output_type": "stream",
     "text": [
      "Accuracy: 0.7140 (71.40%)\n"
     ]
    }
   ],
   "source": [
    "\n",
    "# Calculate accuracy\n",
    "accuracy = np.mean(preds == test_df[\"sentiment_label\"])\n",
    "accuracy_percentage = accuracy * 100\n",
    "\n",
    "# Print accuracy\n",
    "print(f\"Accuracy: {accuracy:.4f} ({accuracy_percentage:.2f}%)\")"
   ]
  },
  {
   "cell_type": "code",
   "execution_count": 36,
   "id": "4c8cc7ba-011e-49b7-b7e1-9390b4ca5079",
   "metadata": {},
   "outputs": [
    {
     "name": "stderr",
     "output_type": "stream",
     "text": [
      "Device set to use cpu\n"
     ]
    },
    {
     "name": "stdout",
     "output_type": "stream",
     "text": [
      "English sentiment distribution:\n",
      "sentiment_label\n",
      "1    1586\n",
      "0     921\n",
      "Name: count, dtype: int64\n",
      "\n",
      "Hindi sentiment distribution:\n",
      "1    2507\n",
      "Name: count, dtype: int64\n",
      "\n",
      "Sample English vs Hindi predictions:\n",
      "English: A black box in your car? -> 1\n",
      "Hindi: आपकी कार में ब्लैक बॉक्स? -> 1 (raw: neutral, score: 0.812)\n",
      "English: As America's road planners struggle to find the cash to mend a crumbling highway system, many are beginning to see a solution in a little black box that fits neatly by the dashboard of your car. -> 0\n",
      "Hindi: जबकि अमेरिका के सड़क योजनाकार, ध्वस्त होते हुए हाईवे सिस्टम को सुधारने के लिए धन की कमी से जूझ रहे हैं, वहीं बहुत-से लोग इसका समाधान छोटे से ब्लैक बॉक्स में देख रहे हैं, जो आपकी कार के डैशबोर्ड पर सफ़ाई से फिट हो जाता है। -> 1 (raw: negative, score: 0.458)\n",
      "English: The devices, which track every mile a motorist drives and transmit that information to bureaucrats, are at the center of a controversial attempt in Washington and state planning offices to overhaul the outdated system for funding America's major roads. -> 1\n",
      "Hindi: यह डिवाइस, जो मोटर-चालक द्वारा वाहन चलाए गए प्रत्येक मील को ट्रैक करती है तथा उस सूचना को अधिकारियों को संचारित करती है, आजकल अमेरिका की प्रमुख सड़कों का वित्त-पोषण करने के लिए पुराने हो चुके सिस्टम का जीर्णोद्धार करने के लिए वाशिंगटन और राज्य नियोजन कार्यालय के लिए एक विवादास्पद प्रयास का मुद्दा बन चुका है। -> 1 (raw: neutral, score: 0.442)\n",
      "English: The usually dull arena of highway planning has suddenly spawned intense debate and colorful alliances. -> 0\n",
      "Hindi: आम तौर पर हाईवे नियोजन जैसा उबाऊ काम भी अचानक गहन बहस तथा जीवंत गठबंधनों का मुद्दा बन गया है। -> 1 (raw: neutral, score: 0.432)\n",
      "English: Libertarians have joined environmental groups in lobbying to allow government to use the little boxes to keep track of the miles you drive, and possibly where you drive them - then use the information to draw up a tax bill. -> 1\n",
      "Hindi: आपने द्वारा ड्राइव किए गए मील, तथा संभवतः ड्राइव किए गए स्थान का विवरण रखने - और फिर इस सूचना का उपयोग टैक्स बिल तैयार करने के लिए - सरकार को इन ब्लैक बॉक्स का उपयोग करने की अनुमति देने के पक्ष में समर्थन जुटाने के लिए लिबरेटेरियन पर्यावरणीय समूहों के साथ मिल गए हैं। -> 1 (raw: neutral, score: 0.598)\n",
      "\n",
      "Sentiment preservation accuracy (English vs Hindi):\n",
      "0.6326\n"
     ]
    }
   ],
   "source": [
    "# ========== 6 Sentiment Preservation Check ==========\n",
    "from transformers import pipeline\n",
    "import numpy as np\n",
    "\n",
    "# Use a Hindi sentiment classifier\n",
    "hindi_classifier = pipeline(\"sentiment-analysis\", model=\"cardiffnlp/twitter-xlm-roberta-base-sentiment\")\n",
    "hindi_preds = hindi_classifier(test_df[\"hindi_text\"].tolist(), truncation=True, max_length=512)\n",
    "\n",
    "# Map Hindi predictions to binary labels (0 = positive, 1 = negative)\n",
    "hindi_labels = []\n",
    "for pred in hindi_preds:\n",
    "    label = pred[\"label\"]\n",
    "    score = pred[\"score\"]\n",
    "    if label == \"Positive\" and score > 0.6:  # Threshold for positive\n",
    "        hindi_labels.append(0)\n",
    "    else:\n",
    "        hindi_labels.append(1)  # Default to negative (no neutral)\n",
    "\n",
    "# Debug: Print distributions and sample predictions\n",
    "print(\"English sentiment distribution:\")\n",
    "print(test_df[\"sentiment_label\"].value_counts())\n",
    "print(\"\\nHindi sentiment distribution:\")\n",
    "print(pd.Series(hindi_labels).value_counts())\n",
    "print(\"\\nSample English vs Hindi predictions:\")\n",
    "for i in range(min(5, len(test_df))):\n",
    "    print(f\"English: {test_df['english_text'].iloc[i]} -> {test_df['sentiment_label'].iloc[i]}\")\n",
    "    print(f\"Hindi: {test_df['hindi_text'].iloc[i]} -> {hindi_labels[i]} (raw: {hindi_preds[i]['label']}, score: {hindi_preds[i]['score']:.3f})\")\n",
    "\n",
    "# Calculate preservation accuracy\n",
    "print(\"\\nSentiment preservation accuracy (English vs Hindi):\")\n",
    "preservation_acc = np.mean(np.array(test_df[\"sentiment_label\"]) == np.array(hindi_labels))\n",
    "print(f\"{preservation_acc:.4f}\")"
   ]
  },
  {
   "cell_type": "code",
   "execution_count": null,
   "id": "29b36bfb-b034-48f9-9ff8-04c2d024bf80",
   "metadata": {},
   "outputs": [],
   "source": []
  }
 ],
 "metadata": {
  "kernelspec": {
   "display_name": "Python [conda env:base] *",
   "language": "python",
   "name": "conda-base-py"
  },
  "language_info": {
   "codemirror_mode": {
    "name": "ipython",
    "version": 3
   },
   "file_extension": ".py",
   "mimetype": "text/x-python",
   "name": "python",
   "nbconvert_exporter": "python",
   "pygments_lexer": "ipython3",
   "version": "3.12.7"
  }
 },
 "nbformat": 4,
 "nbformat_minor": 5
}
